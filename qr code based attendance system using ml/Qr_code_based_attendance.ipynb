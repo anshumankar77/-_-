{
 "cells": [
  {
   "cell_type": "markdown",
   "id": "73566d93",
   "metadata": {},
   "source": [
    "# Import Libraries"
   ]
  },
  {
   "cell_type": "code",
   "execution_count": 83,
   "id": "e709fe09",
   "metadata": {},
   "outputs": [],
   "source": [
    "import os\n",
    "import numpy as np\n",
    "import cv2\n",
    "import openpyxl\n",
    "from pyzbar.pyzbar import decode\n",
    "import tensorflow as tf\n",
    "from sklearn.model_selection import train_test_split\n",
    "from tensorflow.keras import layers, models\n",
    "from sklearn.model_selection import train_test_split\n",
    "from sklearn.preprocessing import LabelEncoder\n",
    "from sklearn.svm import SVC\n",
    "from sklearn.metrics import accuracy_score, confusion_matrix, classification_report\n",
    "from tensorflow.keras.models import Sequential\n",
    "from tensorflow.keras.layers import Conv2D, MaxPooling2D, Flatten, Dense\n",
    "from tensorflow.keras.utils import to_categorical\n",
    "import matplotlib.pyplot as plt"
   ]
  },
  {
   "cell_type": "markdown",
   "id": "72a44035",
   "metadata": {},
   "source": [
    "# Load the dataset"
   ]
  },
  {
   "cell_type": "code",
   "execution_count": 84,
   "id": "7e5f7663",
   "metadata": {},
   "outputs": [
    {
     "name": "stdout",
     "output_type": "stream",
     "text": [
      "Dataset loaded successfully.\n",
      "Number of images: 1429\n"
     ]
    }
   ],
   "source": [
    "# Function to load and preprocess images\n",
    "def load_images(folder):\n",
    "    images = []\n",
    "    labels = []\n",
    "    for filename in os.listdir(folder):\n",
    "        img = cv2.imread(os.path.join(folder, filename))\n",
    "        img = cv2.resize(img, (100, 100))  # Resize image to desired dimensions\n",
    "        if img is not None:  # Check if the image is valid\n",
    "            images.append(img)\n",
    "            label = filename.split('_')[0]  # Extract label from filename\n",
    "            labels.append(label)\n",
    "    return np.array(images), np.array(labels)\n",
    "\n",
    "# Load and preprocess dataset\n",
    "dataset_folder = 'qr_dataset'  # Path to your dataset folder\n",
    "images, labels = load_images(dataset_folder)\n",
    "\n",
    "if len(images) > 0:\n",
    "    print(\"Dataset loaded successfully.\")\n",
    "    print(\"Number of images:\", len(images))\n",
    "else:\n",
    "    print(\"Failed to load the dataset. Please check the dataset folder path.\")"
   ]
  },
  {
   "cell_type": "code",
   "execution_count": 85,
   "id": "25e928b2",
   "metadata": {},
   "outputs": [],
   "source": [
    "# Encode labels\n",
    "label_encoder = LabelEncoder()\n",
    "labels_encoded = label_encoder.fit_transform(labels)"
   ]
  },
  {
   "cell_type": "markdown",
   "id": "b5d4510b",
   "metadata": {},
   "source": [
    "# Dataset Splitting"
   ]
  },
  {
   "cell_type": "code",
   "execution_count": 86,
   "id": "bfdd175a",
   "metadata": {},
   "outputs": [],
   "source": [
    "# Split dataset into training and testing sets\n",
    "X_train, X_test, y_train, y_test = train_test_split(images, labels_encoded, test_size=0.2, random_state=42)"
   ]
  },
  {
   "cell_type": "code",
   "execution_count": 87,
   "id": "b7ca6635",
   "metadata": {},
   "outputs": [],
   "source": [
    "# Convert labels to categorical\n",
    "num_classes = len(np.unique(labels_encoded))\n",
    "y_train = to_categorical(y_train, num_classes)\n",
    "y_test = to_categorical(y_test, num_classes)"
   ]
  },
  {
   "cell_type": "markdown",
   "id": "1d3d59e4",
   "metadata": {},
   "source": [
    "# Build CNN model for feature extraction"
   ]
  },
  {
   "cell_type": "code",
   "execution_count": 88,
   "id": "dadadcc1",
   "metadata": {},
   "outputs": [],
   "source": [
    "# Build CNN model for feature extraction\n",
    "cnn_model = Sequential([\n",
    "    Conv2D(32, (3, 3), activation='relu', input_shape=(100, 100, 3)),\n",
    "    MaxPooling2D((2, 2)),\n",
    "    Conv2D(64, (3, 3), activation='relu'),\n",
    "    MaxPooling2D((2, 2)),\n",
    "    Flatten(),\n",
    "    Dense(128, activation='relu'),\n",
    "    Dense(num_classes, activation='softmax')\n",
    "])"
   ]
  },
  {
   "cell_type": "markdown",
   "id": "e9ee2b0d",
   "metadata": {},
   "source": [
    "# Normalize pixel values to be between 0 and 1"
   ]
  },
  {
   "cell_type": "code",
   "execution_count": 89,
   "id": "557d18ac",
   "metadata": {},
   "outputs": [],
   "source": [
    "# Normalize pixel values to be between 0 and 1\n",
    "X_train = X_train.astype('float32') / 255\n",
    "X_test = X_test.astype('float32') / 255"
   ]
  },
  {
   "cell_type": "code",
   "execution_count": 90,
   "id": "e8d1eacf",
   "metadata": {},
   "outputs": [],
   "source": [
    "# Compile the CNN model\n",
    "cnn_model.compile(optimizer='adam',\n",
    "              loss='categorical_crossentropy',\n",
    "              metrics=['accuracy'])"
   ]
  },
  {
   "cell_type": "markdown",
   "id": "81932a75",
   "metadata": {},
   "source": [
    "# Train the model"
   ]
  },
  {
   "cell_type": "code",
   "execution_count": 91,
   "id": "a9842e4f",
   "metadata": {},
   "outputs": [
    {
     "name": "stdout",
     "output_type": "stream",
     "text": [
      "Epoch 1/10\n",
      "33/33 [==============================] - 9s 257ms/step - loss: 2.0464 - accuracy: 0.7315 - val_loss: 1.6686 - val_accuracy: 0.7304\n",
      "Epoch 2/10\n",
      "33/33 [==============================] - 8s 250ms/step - loss: 1.4505 - accuracy: 0.7539 - val_loss: 1.7561 - val_accuracy: 0.7304\n",
      "Epoch 3/10\n",
      "33/33 [==============================] - 8s 249ms/step - loss: 1.4093 - accuracy: 0.7539 - val_loss: 1.7945 - val_accuracy: 0.7304\n",
      "Epoch 4/10\n",
      "33/33 [==============================] - 8s 236ms/step - loss: 1.3753 - accuracy: 0.7539 - val_loss: 1.7542 - val_accuracy: 0.7304\n",
      "Epoch 5/10\n",
      "33/33 [==============================] - 8s 239ms/step - loss: 1.3368 - accuracy: 0.7549 - val_loss: 2.0476 - val_accuracy: 0.7304\n",
      "Epoch 6/10\n",
      "33/33 [==============================] - 8s 233ms/step - loss: 1.2663 - accuracy: 0.7549 - val_loss: 2.2337 - val_accuracy: 0.7304\n",
      "Epoch 7/10\n",
      "33/33 [==============================] - 8s 234ms/step - loss: 1.1853 - accuracy: 0.7539 - val_loss: 2.3582 - val_accuracy: 0.7304\n",
      "Epoch 8/10\n",
      "33/33 [==============================] - 8s 228ms/step - loss: 1.1082 - accuracy: 0.7539 - val_loss: 2.5859 - val_accuracy: 0.7304\n",
      "Epoch 9/10\n",
      "33/33 [==============================] - 8s 228ms/step - loss: 0.9820 - accuracy: 0.7656 - val_loss: 3.0571 - val_accuracy: 0.7304\n",
      "Epoch 10/10\n",
      "33/33 [==============================] - 7s 224ms/step - loss: 0.8571 - accuracy: 0.7899 - val_loss: 3.6382 - val_accuracy: 0.7304\n"
     ]
    },
    {
     "data": {
      "text/plain": [
       "<keras.src.callbacks.History at 0x2130c781280>"
      ]
     },
     "execution_count": 91,
     "metadata": {},
     "output_type": "execute_result"
    }
   ],
   "source": [
    "# Train the CNN model\n",
    "cnn_model.fit(X_train, y_train, epochs=10, batch_size=32, validation_split=0.1)"
   ]
  },
  {
   "cell_type": "markdown",
   "id": "8760715f",
   "metadata": {},
   "source": [
    "# Save the CNN model"
   ]
  },
  {
   "cell_type": "code",
   "execution_count": 92,
   "id": "9fa1a490",
   "metadata": {
    "scrolled": true
   },
   "outputs": [
    {
     "name": "stderr",
     "output_type": "stream",
     "text": [
      "C:\\Users\\anshu\\anaconda3\\lib\\site-packages\\keras\\src\\engine\\training.py:3079: UserWarning: You are saving your model as an HDF5 file via `model.save()`. This file format is considered legacy. We recommend using instead the native Keras format, e.g. `model.save('my_model.keras')`.\n",
      "  saving_api.save_model(\n"
     ]
    }
   ],
   "source": [
    "# Save the CNN model\n",
    "cnn_model.save('cnn_model.h5')"
   ]
  },
  {
   "cell_type": "markdown",
   "id": "1c351499",
   "metadata": {},
   "source": [
    "# Use CNN for feature extraction"
   ]
  },
  {
   "cell_type": "code",
   "execution_count": 93,
   "id": "c6167a64",
   "metadata": {},
   "outputs": [
    {
     "name": "stdout",
     "output_type": "stream",
     "text": [
      "36/36 [==============================] - 2s 58ms/step\n",
      "9/9 [==============================] - 1s 58ms/step\n"
     ]
    }
   ],
   "source": [
    "# Use CNN for feature extraction\n",
    "cnn_features_train = cnn_model.predict(X_train)\n",
    "cnn_features_test = cnn_model.predict(X_test)"
   ]
  },
  {
   "cell_type": "markdown",
   "id": "4036f38a",
   "metadata": {},
   "source": [
    "# SVM model Train"
   ]
  },
  {
   "cell_type": "code",
   "execution_count": 94,
   "id": "53280c84",
   "metadata": {},
   "outputs": [
    {
     "data": {
      "text/plain": [
       "SVC(kernel='linear')"
      ]
     },
     "execution_count": 94,
     "metadata": {},
     "output_type": "execute_result"
    }
   ],
   "source": [
    "# SVM model Train\n",
    "svm_model = SVC(kernel='linear')\n",
    "svm_model.fit(cnn_features_train, np.argmax(y_train, axis=1))"
   ]
  },
  {
   "cell_type": "markdown",
   "id": "bea11132",
   "metadata": {},
   "source": [
    "# Save the SVM model"
   ]
  },
  {
   "cell_type": "code",
   "execution_count": 95,
   "id": "43318c17",
   "metadata": {},
   "outputs": [
    {
     "data": {
      "text/plain": [
       "['svm_model.pkl']"
      ]
     },
     "execution_count": 95,
     "metadata": {},
     "output_type": "execute_result"
    }
   ],
   "source": [
    "# Save the SVM model\n",
    "import joblib\n",
    "joblib.dump(svm_model, 'svm_model.pkl')"
   ]
  },
  {
   "cell_type": "markdown",
   "id": "3ca3d5ee",
   "metadata": {},
   "source": [
    "# SVM Model Test"
   ]
  },
  {
   "cell_type": "code",
   "execution_count": 96,
   "id": "a04464ec",
   "metadata": {},
   "outputs": [],
   "source": [
    "# SVM Model Test\n",
    "svm_pred = svm_model.predict(cnn_features_test)"
   ]
  },
  {
   "cell_type": "markdown",
   "id": "2af9d2a7",
   "metadata": {},
   "source": [
    "# Evaluate the model"
   ]
  },
  {
   "cell_type": "code",
   "execution_count": 97,
   "id": "07887647",
   "metadata": {},
   "outputs": [
    {
     "name": "stdout",
     "output_type": "stream",
     "text": [
      "Test accuracy: 0.7552447552447552\n"
     ]
    }
   ],
   "source": [
    "# Evaluate the model\n",
    "accuracy = accuracy_score(np.argmax(y_test, axis=1), svm_pred)\n",
    "print('Test accuracy:', accuracy)"
   ]
  },
  {
   "cell_type": "markdown",
   "id": "e8166e04",
   "metadata": {},
   "source": [
    "# Classification report"
   ]
  },
  {
   "cell_type": "code",
   "execution_count": 98,
   "id": "92669254",
   "metadata": {},
   "outputs": [
    {
     "name": "stdout",
     "output_type": "stream",
     "text": [
      "              precision    recall  f1-score   support\n",
      "\n",
      "          23       0.00      0.00      0.00         1\n",
      "          29       0.00      0.00      0.00         1\n",
      "          30       0.00      0.00      0.00         1\n",
      "          32       0.00      0.00      0.00         1\n",
      "          43       0.00      0.00      0.00         1\n",
      "          44       0.00      0.00      0.00         1\n",
      "          49       0.00      0.00      0.00         1\n",
      "          51       0.00      0.00      0.00         1\n",
      "          56       0.00      0.00      0.00         1\n",
      "          58       0.00      0.00      0.00         1\n",
      "          63       0.00      0.00      0.00         1\n",
      "          65       0.00      0.00      0.00         1\n",
      "          67       0.00      0.00      0.00         1\n",
      "          70       0.00      0.00      0.00         1\n",
      "          76       0.00      0.00      0.00         1\n",
      "          78       0.00      0.00      0.00         1\n",
      "          81       0.00      0.00      0.00         1\n",
      "          86       0.00      0.00      0.00         1\n",
      "          99       0.00      0.00      0.00         1\n",
      "         101       0.00      0.00      0.00         1\n",
      "         107       0.00      0.00      0.00         1\n",
      "         111       0.00      0.00      0.00         1\n",
      "         113       0.00      0.00      0.00         1\n",
      "         115       0.00      0.00      0.00         1\n",
      "         123       0.00      0.00      0.00         1\n",
      "         128       0.00      0.00      0.00         1\n",
      "         141       0.00      0.00      0.00         1\n",
      "         163       0.00      0.00      0.00         1\n",
      "         168       0.00      0.00      0.00         1\n",
      "         174       0.00      0.00      0.00         1\n",
      "         175       0.00      0.00      0.00         1\n",
      "         184       0.00      0.00      0.00         1\n",
      "         192       0.00      0.00      0.00         1\n",
      "         196       0.00      0.00      0.00         1\n",
      "         198       0.00      0.00      0.00         1\n",
      "         203       0.00      0.00      0.00         1\n",
      "         208       0.00      0.00      0.00         1\n",
      "         218       0.00      0.00      0.00         1\n",
      "         220       0.00      0.00      0.00         1\n",
      "         221       0.00      0.00      0.00         1\n",
      "         231       0.00      0.00      0.00         1\n",
      "         233       0.00      0.00      0.00         1\n",
      "         237       0.00      0.00      0.00         1\n",
      "         239       0.00      0.00      0.00         1\n",
      "         240       0.00      0.00      0.00         1\n",
      "         244       0.00      0.00      0.00         1\n",
      "         247       0.00      0.00      0.00         1\n",
      "         254       0.00      0.00      0.00         1\n",
      "         259       0.00      0.00      0.00         1\n",
      "         261       0.00      0.00      0.00         1\n",
      "         265       0.00      0.00      0.00         1\n",
      "         270       0.00      0.00      0.00         1\n",
      "         271       0.00      0.00      0.00         1\n",
      "         274       0.00      0.00      0.00         1\n",
      "         275       0.00      0.00      0.00         1\n",
      "         277       0.00      0.00      0.00         1\n",
      "         289       0.00      0.00      0.00         1\n",
      "         297       0.00      0.00      0.00         1\n",
      "         303       0.00      0.00      0.00         1\n",
      "         309       0.00      0.00      0.00         1\n",
      "         310       0.00      0.00      0.00         1\n",
      "         316       0.00      0.00      0.00         1\n",
      "         332       0.00      0.00      0.00         1\n",
      "         339       0.00      0.00      0.00         1\n",
      "         342       0.00      0.00      0.00         1\n",
      "         344       0.00      0.00      0.00         1\n",
      "         346       0.00      0.00      0.00         1\n",
      "         350       0.00      0.00      0.00         1\n",
      "         351       0.00      0.00      0.00         1\n",
      "         353       0.00      0.00      0.00         1\n",
      "         354       0.76      1.00      0.86       216\n",
      "\n",
      "    accuracy                           0.76       286\n",
      "   macro avg       0.01      0.01      0.01       286\n",
      "weighted avg       0.57      0.76      0.65       286\n",
      "\n"
     ]
    },
    {
     "name": "stderr",
     "output_type": "stream",
     "text": [
      "C:\\Users\\anshu\\anaconda3\\lib\\site-packages\\sklearn\\metrics\\_classification.py:1318: UndefinedMetricWarning: Precision and F-score are ill-defined and being set to 0.0 in labels with no predicted samples. Use `zero_division` parameter to control this behavior.\n",
      "  _warn_prf(average, modifier, msg_start, len(result))\n",
      "C:\\Users\\anshu\\anaconda3\\lib\\site-packages\\sklearn\\metrics\\_classification.py:1318: UndefinedMetricWarning: Precision and F-score are ill-defined and being set to 0.0 in labels with no predicted samples. Use `zero_division` parameter to control this behavior.\n",
      "  _warn_prf(average, modifier, msg_start, len(result))\n",
      "C:\\Users\\anshu\\anaconda3\\lib\\site-packages\\sklearn\\metrics\\_classification.py:1318: UndefinedMetricWarning: Precision and F-score are ill-defined and being set to 0.0 in labels with no predicted samples. Use `zero_division` parameter to control this behavior.\n",
      "  _warn_prf(average, modifier, msg_start, len(result))\n"
     ]
    }
   ],
   "source": [
    "# Classification report\n",
    "print(classification_report(np.argmax(y_test, axis=1), svm_pred))"
   ]
  },
  {
   "cell_type": "markdown",
   "id": "11884457",
   "metadata": {},
   "source": [
    "# Real-time QR Code Attendance Tracking System Using Python"
   ]
  },
  {
   "cell_type": "code",
   "execution_count": 82,
   "id": "e3090a4e",
   "metadata": {},
   "outputs": [
    {
     "name": "stdout",
     "output_type": "stream",
     "text": [
      "QR Code Data: 1031\n",
      "QR Code Data: 1026\n",
      "QR Code Data: 1002\n",
      "QR Code Data: 1034\n",
      "QR Code Data: 1015\n"
     ]
    }
   ],
   "source": [
    "# Function to update Excel file with QR code data\n",
    "def update_excel(qr_data):\n",
    "    try:\n",
    "        workbook = openpyxl.load_workbook('qr_code_attendance.xlsx')\n",
    "    except FileNotFoundError:\n",
    "        workbook = openpyxl.Workbook()\n",
    "    sheet = workbook.active\n",
    "    sheet.append([qr_data])  # Append QR code data to the Excel sheet\n",
    "    workbook.save('qr_code_attendance.xlsx')\n",
    "\n",
    "# Initialize variables to store the last scanned QR code data\n",
    "last_scanned_qr_code = None\n",
    "\n",
    "# Initialize camera\n",
    "cap = cv2.VideoCapture(0)\n",
    "\n",
    "while True:\n",
    "    ret, frame = cap.read()\n",
    "\n",
    "    # Decode QR code\n",
    "    decoded_objects = decode(frame)\n",
    "    \n",
    "    for obj in decoded_objects:\n",
    "        qr_data = obj.data.decode('utf-8')\n",
    "        \n",
    "        # Check if QR code is different from the last scanned QR code\n",
    "        if qr_data != last_scanned_qr_code:\n",
    "            update_excel(qr_data)\n",
    "            print(f\"QR Code Data: {qr_data}\")\n",
    "            last_scanned_qr_code = qr_data\n",
    "    \n",
    "    cv2.imshow('QR Code Scanner', frame)\n",
    "\n",
    "    if cv2.waitKey(1) & 0xFF == ord('q'):\n",
    "        break\n",
    "\n",
    "cap.release()\n",
    "cv2.destroyAllWindows()\n"
   ]
  },
  {
   "cell_type": "code",
   "execution_count": null,
   "id": "92dd3640",
   "metadata": {},
   "outputs": [],
   "source": []
  }
 ],
 "metadata": {
  "kernelspec": {
   "display_name": "Python 3 (ipykernel)",
   "language": "python",
   "name": "python3"
  },
  "language_info": {
   "codemirror_mode": {
    "name": "ipython",
    "version": 3
   },
   "file_extension": ".py",
   "mimetype": "text/x-python",
   "name": "python",
   "nbconvert_exporter": "python",
   "pygments_lexer": "ipython3",
   "version": "3.11.3"
  }
 },
 "nbformat": 4,
 "nbformat_minor": 5
}
